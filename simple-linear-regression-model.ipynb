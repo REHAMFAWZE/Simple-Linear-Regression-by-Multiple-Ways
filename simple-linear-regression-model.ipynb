{
 "cells": [
  {
   "cell_type": "markdown",
   "id": "9061d77a",
   "metadata": {
    "papermill": {
     "duration": 0.008886,
     "end_time": "2025-04-09T22:42:40.571275",
     "exception": false,
     "start_time": "2025-04-09T22:42:40.562389",
     "status": "completed"
    },
    "tags": []
   },
   "source": [
    "<h1 style=\"color: black; padding: 15px; display: table; text-align: center; \n",
    "           box-shadow: 5px 5px 10px rgba(0,0,0,0.3); width: fit-content; margin: auto;\">\n",
    "  <span style=\"background-color: #f5f5f5; padding: 5px; border: 3px solid black; display: inline-block;\">\n",
    "    Simple Linear Regression(built in)  \n",
    "  </span>\n",
    "</h1>\n"
   ]
  },
  {
   "cell_type": "code",
   "execution_count": 1,
   "id": "808d1ed9",
   "metadata": {
    "execution": {
     "iopub.execute_input": "2025-04-09T22:42:40.589112Z",
     "iopub.status.busy": "2025-04-09T22:42:40.588600Z",
     "iopub.status.idle": "2025-04-09T22:42:44.980059Z",
     "shell.execute_reply": "2025-04-09T22:42:44.979188Z"
    },
    "papermill": {
     "duration": 4.402634,
     "end_time": "2025-04-09T22:42:44.982038",
     "exception": false,
     "start_time": "2025-04-09T22:42:40.579404",
     "status": "completed"
    },
    "tags": []
   },
   "outputs": [],
   "source": [
    "import numpy as np\n",
    "import pandas as pd\n",
    "import matplotlib.pyplot as plt\n",
    "import seaborn as sns\n",
    "from sklearn.model_selection import train_test_split\n",
    "from sklearn.linear_model import LinearRegression\n",
    "from sklearn import metrics\n",
    "import plotly.express as px\n",
    "import plotly.io as pio\n",
    "pio.renderers.default = \"iframe\"\n",
    "import warnings\n",
    "warnings.filterwarnings('ignore')"
   ]
  },
  {
   "cell_type": "code",
   "execution_count": 2,
   "id": "0d2bd1a6",
   "metadata": {
    "execution": {
     "iopub.execute_input": "2025-04-09T22:42:44.999550Z",
     "iopub.status.busy": "2025-04-09T22:42:44.999187Z",
     "iopub.status.idle": "2025-04-09T22:42:45.014745Z",
     "shell.execute_reply": "2025-04-09T22:42:45.013715Z"
    },
    "papermill": {
     "duration": 0.026336,
     "end_time": "2025-04-09T22:42:45.016605",
     "exception": false,
     "start_time": "2025-04-09T22:42:44.990269",
     "status": "completed"
    },
    "tags": []
   },
   "outputs": [],
   "source": [
    "data=pd.read_csv('/kaggle/input/salary-vs-experience/Salary_Data.csv')"
   ]
  },
  {
   "cell_type": "code",
   "execution_count": 3,
   "id": "b9262201",
   "metadata": {
    "execution": {
     "iopub.execute_input": "2025-04-09T22:42:45.033792Z",
     "iopub.status.busy": "2025-04-09T22:42:45.033422Z",
     "iopub.status.idle": "2025-04-09T22:42:45.063688Z",
     "shell.execute_reply": "2025-04-09T22:42:45.062630Z"
    },
    "papermill": {
     "duration": 0.040871,
     "end_time": "2025-04-09T22:42:45.065504",
     "exception": false,
     "start_time": "2025-04-09T22:42:45.024633",
     "status": "completed"
    },
    "tags": []
   },
   "outputs": [
    {
     "data": {
      "text/html": [
       "<div>\n",
       "<style scoped>\n",
       "    .dataframe tbody tr th:only-of-type {\n",
       "        vertical-align: middle;\n",
       "    }\n",
       "\n",
       "    .dataframe tbody tr th {\n",
       "        vertical-align: top;\n",
       "    }\n",
       "\n",
       "    .dataframe thead th {\n",
       "        text-align: right;\n",
       "    }\n",
       "</style>\n",
       "<table border=\"1\" class=\"dataframe\">\n",
       "  <thead>\n",
       "    <tr style=\"text-align: right;\">\n",
       "      <th></th>\n",
       "      <th>YearsExperience</th>\n",
       "      <th>Salary</th>\n",
       "    </tr>\n",
       "  </thead>\n",
       "  <tbody>\n",
       "    <tr>\n",
       "      <th>0</th>\n",
       "      <td>1.1</td>\n",
       "      <td>39343.0</td>\n",
       "    </tr>\n",
       "    <tr>\n",
       "      <th>1</th>\n",
       "      <td>1.3</td>\n",
       "      <td>46205.0</td>\n",
       "    </tr>\n",
       "    <tr>\n",
       "      <th>2</th>\n",
       "      <td>1.5</td>\n",
       "      <td>37731.0</td>\n",
       "    </tr>\n",
       "    <tr>\n",
       "      <th>3</th>\n",
       "      <td>2.0</td>\n",
       "      <td>43525.0</td>\n",
       "    </tr>\n",
       "    <tr>\n",
       "      <th>4</th>\n",
       "      <td>2.2</td>\n",
       "      <td>39891.0</td>\n",
       "    </tr>\n",
       "    <tr>\n",
       "      <th>5</th>\n",
       "      <td>2.9</td>\n",
       "      <td>56642.0</td>\n",
       "    </tr>\n",
       "    <tr>\n",
       "      <th>6</th>\n",
       "      <td>3.0</td>\n",
       "      <td>60150.0</td>\n",
       "    </tr>\n",
       "    <tr>\n",
       "      <th>7</th>\n",
       "      <td>3.2</td>\n",
       "      <td>54445.0</td>\n",
       "    </tr>\n",
       "    <tr>\n",
       "      <th>8</th>\n",
       "      <td>3.2</td>\n",
       "      <td>64445.0</td>\n",
       "    </tr>\n",
       "    <tr>\n",
       "      <th>9</th>\n",
       "      <td>3.7</td>\n",
       "      <td>57189.0</td>\n",
       "    </tr>\n",
       "    <tr>\n",
       "      <th>10</th>\n",
       "      <td>3.9</td>\n",
       "      <td>63218.0</td>\n",
       "    </tr>\n",
       "    <tr>\n",
       "      <th>11</th>\n",
       "      <td>4.0</td>\n",
       "      <td>55794.0</td>\n",
       "    </tr>\n",
       "    <tr>\n",
       "      <th>12</th>\n",
       "      <td>4.0</td>\n",
       "      <td>56957.0</td>\n",
       "    </tr>\n",
       "    <tr>\n",
       "      <th>13</th>\n",
       "      <td>4.1</td>\n",
       "      <td>57081.0</td>\n",
       "    </tr>\n",
       "    <tr>\n",
       "      <th>14</th>\n",
       "      <td>4.5</td>\n",
       "      <td>61111.0</td>\n",
       "    </tr>\n",
       "    <tr>\n",
       "      <th>15</th>\n",
       "      <td>4.9</td>\n",
       "      <td>67938.0</td>\n",
       "    </tr>\n",
       "    <tr>\n",
       "      <th>16</th>\n",
       "      <td>5.1</td>\n",
       "      <td>66029.0</td>\n",
       "    </tr>\n",
       "    <tr>\n",
       "      <th>17</th>\n",
       "      <td>5.3</td>\n",
       "      <td>83088.0</td>\n",
       "    </tr>\n",
       "    <tr>\n",
       "      <th>18</th>\n",
       "      <td>5.9</td>\n",
       "      <td>81363.0</td>\n",
       "    </tr>\n",
       "    <tr>\n",
       "      <th>19</th>\n",
       "      <td>6.0</td>\n",
       "      <td>93940.0</td>\n",
       "    </tr>\n",
       "    <tr>\n",
       "      <th>20</th>\n",
       "      <td>6.8</td>\n",
       "      <td>91738.0</td>\n",
       "    </tr>\n",
       "    <tr>\n",
       "      <th>21</th>\n",
       "      <td>7.1</td>\n",
       "      <td>98273.0</td>\n",
       "    </tr>\n",
       "    <tr>\n",
       "      <th>22</th>\n",
       "      <td>7.9</td>\n",
       "      <td>101302.0</td>\n",
       "    </tr>\n",
       "    <tr>\n",
       "      <th>23</th>\n",
       "      <td>8.2</td>\n",
       "      <td>113812.0</td>\n",
       "    </tr>\n",
       "    <tr>\n",
       "      <th>24</th>\n",
       "      <td>8.7</td>\n",
       "      <td>109431.0</td>\n",
       "    </tr>\n",
       "    <tr>\n",
       "      <th>25</th>\n",
       "      <td>9.0</td>\n",
       "      <td>105582.0</td>\n",
       "    </tr>\n",
       "    <tr>\n",
       "      <th>26</th>\n",
       "      <td>9.5</td>\n",
       "      <td>116969.0</td>\n",
       "    </tr>\n",
       "    <tr>\n",
       "      <th>27</th>\n",
       "      <td>9.6</td>\n",
       "      <td>112635.0</td>\n",
       "    </tr>\n",
       "    <tr>\n",
       "      <th>28</th>\n",
       "      <td>10.3</td>\n",
       "      <td>122391.0</td>\n",
       "    </tr>\n",
       "    <tr>\n",
       "      <th>29</th>\n",
       "      <td>10.5</td>\n",
       "      <td>121872.0</td>\n",
       "    </tr>\n",
       "  </tbody>\n",
       "</table>\n",
       "</div>"
      ],
      "text/plain": [
       "    YearsExperience    Salary\n",
       "0               1.1   39343.0\n",
       "1               1.3   46205.0\n",
       "2               1.5   37731.0\n",
       "3               2.0   43525.0\n",
       "4               2.2   39891.0\n",
       "5               2.9   56642.0\n",
       "6               3.0   60150.0\n",
       "7               3.2   54445.0\n",
       "8               3.2   64445.0\n",
       "9               3.7   57189.0\n",
       "10              3.9   63218.0\n",
       "11              4.0   55794.0\n",
       "12              4.0   56957.0\n",
       "13              4.1   57081.0\n",
       "14              4.5   61111.0\n",
       "15              4.9   67938.0\n",
       "16              5.1   66029.0\n",
       "17              5.3   83088.0\n",
       "18              5.9   81363.0\n",
       "19              6.0   93940.0\n",
       "20              6.8   91738.0\n",
       "21              7.1   98273.0\n",
       "22              7.9  101302.0\n",
       "23              8.2  113812.0\n",
       "24              8.7  109431.0\n",
       "25              9.0  105582.0\n",
       "26              9.5  116969.0\n",
       "27              9.6  112635.0\n",
       "28             10.3  122391.0\n",
       "29             10.5  121872.0"
      ]
     },
     "execution_count": 3,
     "metadata": {},
     "output_type": "execute_result"
    }
   ],
   "source": [
    "data"
   ]
  },
  {
   "cell_type": "code",
   "execution_count": 4,
   "id": "dc8d0c6a",
   "metadata": {
    "execution": {
     "iopub.execute_input": "2025-04-09T22:42:45.083209Z",
     "iopub.status.busy": "2025-04-09T22:42:45.082820Z",
     "iopub.status.idle": "2025-04-09T22:42:45.109376Z",
     "shell.execute_reply": "2025-04-09T22:42:45.108168Z"
    },
    "papermill": {
     "duration": 0.037778,
     "end_time": "2025-04-09T22:42:45.111509",
     "exception": false,
     "start_time": "2025-04-09T22:42:45.073731",
     "status": "completed"
    },
    "tags": []
   },
   "outputs": [
    {
     "name": "stdout",
     "output_type": "stream",
     "text": [
      "<class 'pandas.core.frame.DataFrame'>\n",
      "RangeIndex: 30 entries, 0 to 29\n",
      "Data columns (total 2 columns):\n",
      " #   Column           Non-Null Count  Dtype  \n",
      "---  ------           --------------  -----  \n",
      " 0   YearsExperience  30 non-null     float64\n",
      " 1   Salary           30 non-null     float64\n",
      "dtypes: float64(2)\n",
      "memory usage: 608.0 bytes\n"
     ]
    }
   ],
   "source": [
    "data.info()"
   ]
  },
  {
   "cell_type": "code",
   "execution_count": 5,
   "id": "1b2062be",
   "metadata": {
    "execution": {
     "iopub.execute_input": "2025-04-09T22:42:45.129311Z",
     "iopub.status.busy": "2025-04-09T22:42:45.128910Z",
     "iopub.status.idle": "2025-04-09T22:42:45.136034Z",
     "shell.execute_reply": "2025-04-09T22:42:45.135176Z"
    },
    "papermill": {
     "duration": 0.017767,
     "end_time": "2025-04-09T22:42:45.137702",
     "exception": false,
     "start_time": "2025-04-09T22:42:45.119935",
     "status": "completed"
    },
    "tags": []
   },
   "outputs": [
    {
     "data": {
      "text/plain": [
       "YearsExperience    0\n",
       "Salary             0\n",
       "dtype: int64"
      ]
     },
     "execution_count": 5,
     "metadata": {},
     "output_type": "execute_result"
    }
   ],
   "source": [
    "data.isnull().sum()"
   ]
  },
  {
   "cell_type": "code",
   "execution_count": 6,
   "id": "3fd74d31",
   "metadata": {
    "execution": {
     "iopub.execute_input": "2025-04-09T22:42:45.155852Z",
     "iopub.status.busy": "2025-04-09T22:42:45.155500Z",
     "iopub.status.idle": "2025-04-09T22:42:45.173927Z",
     "shell.execute_reply": "2025-04-09T22:42:45.172703Z"
    },
    "papermill": {
     "duration": 0.030103,
     "end_time": "2025-04-09T22:42:45.176229",
     "exception": false,
     "start_time": "2025-04-09T22:42:45.146126",
     "status": "completed"
    },
    "tags": []
   },
   "outputs": [
    {
     "data": {
      "text/html": [
       "<div>\n",
       "<style scoped>\n",
       "    .dataframe tbody tr th:only-of-type {\n",
       "        vertical-align: middle;\n",
       "    }\n",
       "\n",
       "    .dataframe tbody tr th {\n",
       "        vertical-align: top;\n",
       "    }\n",
       "\n",
       "    .dataframe thead th {\n",
       "        text-align: right;\n",
       "    }\n",
       "</style>\n",
       "<table border=\"1\" class=\"dataframe\">\n",
       "  <thead>\n",
       "    <tr style=\"text-align: right;\">\n",
       "      <th></th>\n",
       "      <th>YearsExperience</th>\n",
       "      <th>Salary</th>\n",
       "    </tr>\n",
       "  </thead>\n",
       "  <tbody>\n",
       "    <tr>\n",
       "      <th>count</th>\n",
       "      <td>30.000000</td>\n",
       "      <td>30.000000</td>\n",
       "    </tr>\n",
       "    <tr>\n",
       "      <th>mean</th>\n",
       "      <td>5.313333</td>\n",
       "      <td>76003.000000</td>\n",
       "    </tr>\n",
       "    <tr>\n",
       "      <th>std</th>\n",
       "      <td>2.837888</td>\n",
       "      <td>27414.429785</td>\n",
       "    </tr>\n",
       "    <tr>\n",
       "      <th>min</th>\n",
       "      <td>1.100000</td>\n",
       "      <td>37731.000000</td>\n",
       "    </tr>\n",
       "    <tr>\n",
       "      <th>25%</th>\n",
       "      <td>3.200000</td>\n",
       "      <td>56720.750000</td>\n",
       "    </tr>\n",
       "    <tr>\n",
       "      <th>50%</th>\n",
       "      <td>4.700000</td>\n",
       "      <td>65237.000000</td>\n",
       "    </tr>\n",
       "    <tr>\n",
       "      <th>75%</th>\n",
       "      <td>7.700000</td>\n",
       "      <td>100544.750000</td>\n",
       "    </tr>\n",
       "    <tr>\n",
       "      <th>max</th>\n",
       "      <td>10.500000</td>\n",
       "      <td>122391.000000</td>\n",
       "    </tr>\n",
       "  </tbody>\n",
       "</table>\n",
       "</div>"
      ],
      "text/plain": [
       "       YearsExperience         Salary\n",
       "count        30.000000      30.000000\n",
       "mean          5.313333   76003.000000\n",
       "std           2.837888   27414.429785\n",
       "min           1.100000   37731.000000\n",
       "25%           3.200000   56720.750000\n",
       "50%           4.700000   65237.000000\n",
       "75%           7.700000  100544.750000\n",
       "max          10.500000  122391.000000"
      ]
     },
     "execution_count": 6,
     "metadata": {},
     "output_type": "execute_result"
    }
   ],
   "source": [
    "data.describe()"
   ]
  },
  {
   "cell_type": "code",
   "execution_count": 7,
   "id": "0694bc56",
   "metadata": {
    "execution": {
     "iopub.execute_input": "2025-04-09T22:42:45.194744Z",
     "iopub.status.busy": "2025-04-09T22:42:45.194394Z",
     "iopub.status.idle": "2025-04-09T22:42:45.200113Z",
     "shell.execute_reply": "2025-04-09T22:42:45.199307Z"
    },
    "papermill": {
     "duration": 0.016757,
     "end_time": "2025-04-09T22:42:45.201580",
     "exception": false,
     "start_time": "2025-04-09T22:42:45.184823",
     "status": "completed"
    },
    "tags": []
   },
   "outputs": [
    {
     "data": {
      "text/plain": [
       "Index(['YearsExperience', 'Salary'], dtype='object')"
      ]
     },
     "execution_count": 7,
     "metadata": {},
     "output_type": "execute_result"
    }
   ],
   "source": [
    "data.columns"
   ]
  },
  {
   "cell_type": "code",
   "execution_count": 8,
   "id": "b77bf342",
   "metadata": {
    "execution": {
     "iopub.execute_input": "2025-04-09T22:42:45.220106Z",
     "iopub.status.busy": "2025-04-09T22:42:45.219693Z",
     "iopub.status.idle": "2025-04-09T22:42:45.428635Z",
     "shell.execute_reply": "2025-04-09T22:42:45.427508Z"
    },
    "papermill": {
     "duration": 0.220165,
     "end_time": "2025-04-09T22:42:45.430381",
     "exception": false,
     "start_time": "2025-04-09T22:42:45.210216",
     "status": "completed"
    },
    "tags": []
   },
   "outputs": [
    {
     "data": {
      "text/plain": [
       "{'whiskers': [<matplotlib.lines.Line2D at 0x7bcbeea9b1f0>,\n",
       "  <matplotlib.lines.Line2D at 0x7bcbeea9a200>],\n",
       " 'caps': [<matplotlib.lines.Line2D at 0x7bcbeea99330>,\n",
       "  <matplotlib.lines.Line2D at 0x7bcbeea994e0>],\n",
       " 'boxes': [<matplotlib.patches.PathPatch at 0x7bcbeea9b520>],\n",
       " 'medians': [<matplotlib.lines.Line2D at 0x7bcbeea9a350>],\n",
       " 'fliers': [<matplotlib.lines.Line2D at 0x7bcbee95a380>],\n",
       " 'means': []}"
      ]
     },
     "execution_count": 8,
     "metadata": {},
     "output_type": "execute_result"
    },
    {
     "data": {
      "image/png": "[encoded data removed]",
      "text/plain": [
       "<Figure size 640x480 with 1 Axes>"
      ]
     },
     "metadata": {},
     "output_type": "display_data"
    }
   ],
   "source": [
    "plt.boxplot(data['Salary'],vert=False,patch_artist=True,medianprops=dict(color='red'),boxprops=dict(facecolor='lightblue', color='black'))"
   ]
  },
  {
   "cell_type": "code",
   "execution_count": 9,
   "id": "354a7453",
   "metadata": {
    "execution": {
     "iopub.execute_input": "2025-04-09T22:42:45.449544Z",
     "iopub.status.busy": "2025-04-09T22:42:45.449172Z",
     "iopub.status.idle": "2025-04-09T22:42:45.571317Z",
     "shell.execute_reply": "2025-04-09T22:42:45.570335Z"
    },
    "papermill": {
     "duration": 0.133553,
     "end_time": "2025-04-09T22:42:45.573032",
     "exception": false,
     "start_time": "2025-04-09T22:42:45.439479",
     "status": "completed"
    },
    "tags": []
   },
   "outputs": [
    {
     "data": {
      "text/plain": [
       "{'whiskers': [<matplotlib.lines.Line2D at 0x7bcbee92fc70>,\n",
       "  <matplotlib.lines.Line2D at 0x7bcbee92e620>],\n",
       " 'caps': [<matplotlib.lines.Line2D at 0x7bcbee92fee0>,\n",
       "  <matplotlib.lines.Line2D at 0x7bcbee92c490>],\n",
       " 'boxes': [<matplotlib.patches.PathPatch at 0x7bcbee92ef50>],\n",
       " 'medians': [<matplotlib.lines.Line2D at 0x7bcbee92f700>],\n",
       " 'fliers': [<matplotlib.lines.Line2D at 0x7bcbee92f4c0>],\n",
       " 'means': []}"
      ]
     },
     "execution_count": 9,
     "metadata": {},
     "output_type": "execute_result"
    },
    {
     "data": {
      "image/png": "[encoded data removed]",
      "text/plain": [
       "<Figure size 640x480 with 1 Axes>"
      ]
     },
     "metadata": {},
     "output_type": "display_data"
    }
   ],
   "source": [
    "plt.boxplot(data['YearsExperience'],vert=False,patch_artist=True,medianprops=dict(color='red'),boxprops=dict(facecolor='lightblue', color='black'))"
   ]
  },
  {
   "cell_type": "code",
   "execution_count": 10,
   "id": "9bf47198",
   "metadata": {
    "execution": {
     "iopub.execute_input": "2025-04-09T22:42:45.593315Z",
     "iopub.status.busy": "2025-04-09T22:42:45.592896Z",
     "iopub.status.idle": "2025-04-09T22:42:45.598513Z",
     "shell.execute_reply": "2025-04-09T22:42:45.597191Z"
    },
    "papermill": {
     "duration": 0.01774,
     "end_time": "2025-04-09T22:42:45.600123",
     "exception": false,
     "start_time": "2025-04-09T22:42:45.582383",
     "status": "completed"
    },
    "tags": []
   },
   "outputs": [
    {
     "name": "stdout",
     "output_type": "stream",
     "text": [
      "0.37956024064804106\n"
     ]
    }
   ],
   "source": [
    "skewness=data['YearsExperience'].skew()\n",
    "print(skewness)"
   ]
  },
  {
   "cell_type": "code",
   "execution_count": 11,
   "id": "619e5cce",
   "metadata": {
    "execution": {
     "iopub.execute_input": "2025-04-09T22:42:45.620486Z",
     "iopub.status.busy": "2025-04-09T22:42:45.620065Z",
     "iopub.status.idle": "2025-04-09T22:42:45.625391Z",
     "shell.execute_reply": "2025-04-09T22:42:45.624199Z"
    },
    "papermill": {
     "duration": 0.017405,
     "end_time": "2025-04-09T22:42:45.626919",
     "exception": false,
     "start_time": "2025-04-09T22:42:45.609514",
     "status": "completed"
    },
    "tags": []
   },
   "outputs": [
    {
     "name": "stdout",
     "output_type": "stream",
     "text": [
      "0.35411967922959153\n"
     ]
    }
   ],
   "source": [
    "skewness=data['Salary'].skew()\n",
    "print(skewness)"
   ]
  },
  {
   "cell_type": "code",
   "execution_count": 12,
   "id": "57e2d070",
   "metadata": {
    "execution": {
     "iopub.execute_input": "2025-04-09T22:42:45.646937Z",
     "iopub.status.busy": "2025-04-09T22:42:45.646567Z",
     "iopub.status.idle": "2025-04-09T22:42:45.651423Z",
     "shell.execute_reply": "2025-04-09T22:42:45.650385Z"
    },
    "papermill": {
     "duration": 0.016789,
     "end_time": "2025-04-09T22:42:45.653143",
     "exception": false,
     "start_time": "2025-04-09T22:42:45.636354",
     "status": "completed"
    },
    "tags": []
   },
   "outputs": [],
   "source": [
    "x=data.iloc[:,:-1]\n",
    "y=data.iloc[:,-1:]"
   ]
  },
  {
   "cell_type": "code",
   "execution_count": null,
   "id": "375222cc",
   "metadata": {
    "papermill": {
     "duration": 0.008801,
     "end_time": "2025-04-09T22:42:45.671391",
     "exception": false,
     "start_time": "2025-04-09T22:42:45.662590",
     "status": "completed"
    },
    "tags": []
   },
   "outputs": [],
   "source": []
  },
  {
   "cell_type": "code",
   "execution_count": 13,
   "id": "7b034183",
   "metadata": {
    "execution": {
     "iopub.execute_input": "2025-04-09T22:42:45.690890Z",
     "iopub.status.busy": "2025-04-09T22:42:45.690541Z",
     "iopub.status.idle": "2025-04-09T22:42:45.699053Z",
     "shell.execute_reply": "2025-04-09T22:42:45.697926Z"
    },
    "papermill": {
     "duration": 0.020398,
     "end_time": "2025-04-09T22:42:45.700858",
     "exception": false,
     "start_time": "2025-04-09T22:42:45.680460",
     "status": "completed"
    },
    "tags": []
   },
   "outputs": [],
   "source": [
    "X_train,X_test,Y_train,Y_test=train_test_split(x,y,test_size=0.2,random_state=0)"
   ]
  },
  {
   "cell_type": "code",
   "execution_count": 14,
   "id": "25ba5f68",
   "metadata": {
    "execution": {
     "iopub.execute_input": "2025-04-09T22:42:45.721170Z",
     "iopub.status.busy": "2025-04-09T22:42:45.720761Z",
     "iopub.status.idle": "2025-04-09T22:42:45.760495Z",
     "shell.execute_reply": "2025-04-09T22:42:45.759438Z"
    },
    "papermill": {
     "duration": 0.051785,
     "end_time": "2025-04-09T22:42:45.762208",
     "exception": false,
     "start_time": "2025-04-09T22:42:45.710423",
     "status": "completed"
    },
    "tags": []
   },
   "outputs": [
    {
     "data": {
      "text/html": [
       "<style>#sk-container-id-1 {color: black;background-color: white;}#sk-container-id-1 pre{padding: 0;}#sk-container-id-1 div.sk-toggleable {background-color: white;}#sk-container-id-1 label.sk-toggleable__label {cursor: pointer;display: block;width: 100%;margin-bottom: 0;padding: 0.3em;box-sizing: border-box;text-align: center;}#sk-container-id-1 label.sk-toggleable__label-arrow:before {content: \"▸\";float: left;margin-right: 0.25em;color: #696969;}#sk-container-id-1 label.sk-toggleable__label-arrow:hover:before {color: black;}#sk-container-id-1 div.sk-estimator:hover label.sk-toggleable__label-arrow:before {color: black;}#sk-container-id-1 div.sk-toggleable__content {max-height: 0;max-width: 0;overflow: hidden;text-align: left;background-color: #f0f8ff;}#sk-container-id-1 div.sk-toggleable__content pre {margin: 0.2em;color: black;border-radius: 0.25em;background-color: #f0f8ff;}#sk-container-id-1 input.sk-toggleable__control:checked~div.sk-toggleable__content {max-height: 200px;max-width: 100%;overflow: auto;}#sk-container-id-1 input.sk-toggleable__control:checked~label.sk-toggleable__label-arrow:before {content: \"▾\";}#sk-container-id-1 div.sk-estimator input.sk-toggleable__control:checked~label.sk-toggleable__label {background-color: #d4ebff;}#sk-container-id-1 div.sk-label input.sk-toggleable__control:checked~label.sk-toggleable__label {background-color: #d4ebff;}#sk-container-id-1 input.sk-hidden--visually {border: 0;clip: rect(1px 1px 1px 1px);clip: rect(1px, 1px, 1px, 1px);height: 1px;margin: -1px;overflow: hidden;padding: 0;position: absolute;width: 1px;}#sk-container-id-1 div.sk-estimator {font-family: monospace;background-color: #f0f8ff;border: 1px dotted black;border-radius: 0.25em;box-sizing: border-box;margin-bottom: 0.5em;}#sk-container-id-1 div.sk-estimator:hover {background-color: #d4ebff;}#sk-container-id-1 div.sk-parallel-item::after {content: \"\";width: 100%;border-bottom: 1px solid gray;flex-grow: 1;}#sk-container-id-1 div.sk-label:hover label.sk-toggleable__label {background-color: #d4ebff;}#sk-container-id-1 div.sk-serial::before {content: \"\";position: absolute;border-left: 1px solid gray;box-sizing: border-box;top: 0;bottom: 0;left: 50%;z-index: 0;}#sk-container-id-1 div.sk-serial {display: flex;flex-direction: column;align-items: center;background-color: white;padding-right: 0.2em;padding-left: 0.2em;position: relative;}#sk-container-id-1 div.sk-item {position: relative;z-index: 1;}#sk-container-id-1 div.sk-parallel {display: flex;align-items: stretch;justify-content: center;background-color: white;position: relative;}#sk-container-id-1 div.sk-item::before, #sk-container-id-1 div.sk-parallel-item::before {content: \"\";position: absolute;border-left: 1px solid gray;box-sizing: border-box;top: 0;bottom: 0;left: 50%;z-index: -1;}#sk-container-id-1 div.sk-parallel-item {display: flex;flex-direction: column;z-index: 1;position: relative;background-color: white;}#sk-container-id-1 div.sk-parallel-item:first-child::after {align-self: flex-end;width: 50%;}#sk-container-id-1 div.sk-parallel-item:last-child::after {align-self: flex-start;width: 50%;}#sk-container-id-1 div.sk-parallel-item:only-child::after {width: 0;}#sk-container-id-1 div.sk-dashed-wrapped {border: 1px dashed gray;margin: 0 0.4em 0.5em 0.4em;box-sizing: border-box;padding-bottom: 0.4em;background-color: white;}#sk-container-id-1 div.sk-label label {font-family: monospace;font-weight: bold;display: inline-block;line-height: 1.2em;}#sk-container-id-1 div.sk-label-container {text-align: center;}#sk-container-id-1 div.sk-container {/* jupyter's `normalize.less` sets `[hidden] { display: none; }` but bootstrap.min.css set `[hidden] { display: none !important; }` so we also need the `!important` here to be able to override the default hidden behavior on the sphinx rendered scikit-learn.org. See: https://github.com/scikit-learn/scikit-learn/issues/21755 */display: inline-block !important;position: relative;}#sk-container-id-1 div.sk-text-repr-fallback {display: none;}</style><div id=\"sk-container-id-1\" class=\"sk-top-container\"><div class=\"sk-text-repr-fallback\"><pre>LinearRegression()</pre><b>In a Jupyter environment, please rerun this cell to show the HTML representation or trust the notebook. <br />On GitHub, the HTML representation is unable to render, please try loading this page with nbviewer.org.</b></div><div class=\"sk-container\" hidden><div class=\"sk-item\"><div class=\"sk-estimator sk-toggleable\"><input class=\"sk-toggleable__control sk-hidden--visually\" id=\"sk-estimator-id-1\" type=\"checkbox\" checked><label for=\"sk-estimator-id-1\" class=\"sk-toggleable__label sk-toggleable__label-arrow\">LinearRegression</label><div class=\"sk-toggleable__content\"><pre>LinearRegression()</pre></div></div></div></div></div>"
      ],
      "text/plain": [
       "LinearRegression()"
      ]
     },
     "execution_count": 14,
     "metadata": {},
     "output_type": "execute_result"
    }
   ],
   "source": [
    "SalaryRegression=LinearRegression()\n",
    "SalaryRegression.fit(X_train,Y_train)"
   ]
  },
  {
   "cell_type": "code",
   "execution_count": 15,
   "id": "64b91424",
   "metadata": {
    "execution": {
     "iopub.execute_input": "2025-04-09T22:42:45.782821Z",
     "iopub.status.busy": "2025-04-09T22:42:45.782458Z",
     "iopub.status.idle": "2025-04-09T22:42:45.788017Z",
     "shell.execute_reply": "2025-04-09T22:42:45.786971Z"
    },
    "papermill": {
     "duration": 0.017558,
     "end_time": "2025-04-09T22:42:45.789629",
     "exception": false,
     "start_time": "2025-04-09T22:42:45.772071",
     "status": "completed"
    },
    "tags": []
   },
   "outputs": [],
   "source": [
    "Y_predict=SalaryRegression.predict(X_test)"
   ]
  },
  {
   "cell_type": "code",
   "execution_count": 16,
   "id": "83bdf920",
   "metadata": {
    "execution": {
     "iopub.execute_input": "2025-04-09T22:42:45.810579Z",
     "iopub.status.busy": "2025-04-09T22:42:45.810188Z",
     "iopub.status.idle": "2025-04-09T22:42:46.041265Z",
     "shell.execute_reply": "2025-04-09T22:42:46.040199Z"
    },
    "papermill": {
     "duration": 0.243646,
     "end_time": "2025-04-09T22:42:46.042974",
     "exception": false,
     "start_time": "2025-04-09T22:42:45.799328",
     "status": "completed"
    },
    "tags": []
   },
   "outputs": [
    {
     "data": {
      "text/plain": [
       "Text(0, 0.5, 'Salary')"
      ]
     },
     "execution_count": 16,
     "metadata": {},
     "output_type": "execute_result"
    },
    {
     "data": {
      "image/png": "[encoded data removed]",
      "text/plain": [
       "<Figure size 640x480 with 1 Axes>"
      ]
     },
     "metadata": {},
     "output_type": "display_data"
    }
   ],
   "source": [
    "plt.scatter(X_train,Y_train,color='purple')\n",
    "plt.plot(X_train,SalaryRegression.predict(X_train),color='red')\n",
    "plt.title('Visualize simple Linear Regreission For Train Data')\n",
    "plt.xlabel('Experience Years')\n",
    "plt.ylabel('Salary')\n"
   ]
  },
  {
   "cell_type": "code",
   "execution_count": 17,
   "id": "758f7ccb",
   "metadata": {
    "execution": {
     "iopub.execute_input": "2025-04-09T22:42:46.065671Z",
     "iopub.status.busy": "2025-04-09T22:42:46.065288Z",
     "iopub.status.idle": "2025-04-09T22:42:46.291656Z",
     "shell.execute_reply": "2025-04-09T22:42:46.290448Z"
    },
    "papermill": {
     "duration": 0.239826,
     "end_time": "2025-04-09T22:42:46.293575",
     "exception": false,
     "start_time": "2025-04-09T22:42:46.053749",
     "status": "completed"
    },
    "tags": []
   },
   "outputs": [
    {
     "data": {
      "text/plain": [
       "Text(0, 0.5, 'Salary')"
      ]
     },
     "execution_count": 17,
     "metadata": {},
     "output_type": "execute_result"
    },
    {
     "data": {
      "image/png": "[encoded data removed]",
      "text/plain": [
       "<Figure size 640x480 with 1 Axes>"
      ]
     },
     "metadata": {},
     "output_type": "display_data"
    }
   ],
   "source": [
    "plt.scatter(X_test,Y_test,color='black')\n",
    "plt.plot(X_test,Y_predict,color='red')\n",
    "plt.title('Visualize simple Linear Regreission For Test Data')\n",
    "plt.xlabel('Experience Years')\n",
    "plt.ylabel('Salary')"
   ]
  },
  {
   "cell_type": "code",
   "execution_count": 18,
   "id": "dde50a3d",
   "metadata": {
    "execution": {
     "iopub.execute_input": "2025-04-09T22:42:46.317895Z",
     "iopub.status.busy": "2025-04-09T22:42:46.317551Z",
     "iopub.status.idle": "2025-04-09T22:42:46.325189Z",
     "shell.execute_reply": "2025-04-09T22:42:46.324224Z"
    },
    "papermill": {
     "duration": 0.02182,
     "end_time": "2025-04-09T22:42:46.326836",
     "exception": false,
     "start_time": "2025-04-09T22:42:46.305016",
     "status": "completed"
    },
    "tags": []
   },
   "outputs": [
    {
     "data": {
      "text/plain": [
       "0.988169515729126"
      ]
     },
     "execution_count": 18,
     "metadata": {},
     "output_type": "execute_result"
    }
   ],
   "source": [
    "metrics.r2_score(Y_test,Y_predict)"
   ]
  },
  {
   "cell_type": "code",
   "execution_count": 19,
   "id": "00d6e276",
   "metadata": {
    "execution": {
     "iopub.execute_input": "2025-04-09T22:42:46.351228Z",
     "iopub.status.busy": "2025-04-09T22:42:46.350835Z",
     "iopub.status.idle": "2025-04-09T22:42:46.358297Z",
     "shell.execute_reply": "2025-04-09T22:42:46.357189Z"
    },
    "papermill": {
     "duration": 0.021661,
     "end_time": "2025-04-09T22:42:46.359910",
     "exception": false,
     "start_time": "2025-04-09T22:42:46.338249",
     "status": "completed"
    },
    "tags": []
   },
   "outputs": [
    {
     "data": {
      "text/plain": [
       "12823412.298126603"
      ]
     },
     "execution_count": 19,
     "metadata": {},
     "output_type": "execute_result"
    }
   ],
   "source": [
    "metrics.mean_squared_error(Y_test,Y_predict)"
   ]
  },
  {
   "cell_type": "code",
   "execution_count": 20,
   "id": "902b75f7",
   "metadata": {
    "execution": {
     "iopub.execute_input": "2025-04-09T22:42:46.384681Z",
     "iopub.status.busy": "2025-04-09T22:42:46.384315Z",
     "iopub.status.idle": "2025-04-09T22:42:46.392244Z",
     "shell.execute_reply": "2025-04-09T22:42:46.390943Z"
    },
    "papermill": {
     "duration": 0.022559,
     "end_time": "2025-04-09T22:42:46.394120",
     "exception": false,
     "start_time": "2025-04-09T22:42:46.371561",
     "status": "completed"
    },
    "tags": []
   },
   "outputs": [
    {
     "data": {
      "text/plain": [
       "3580.979237321351"
      ]
     },
     "execution_count": 20,
     "metadata": {},
     "output_type": "execute_result"
    }
   ],
   "source": [
    "np.sqrt(metrics.mean_squared_error(Y_test,Y_predict))"
   ]
  },
  {
   "cell_type": "markdown",
   "id": "efc1e7b6",
   "metadata": {
    "papermill": {
     "duration": 0.011883,
     "end_time": "2025-04-09T22:42:46.417802",
     "exception": false,
     "start_time": "2025-04-09T22:42:46.405919",
     "status": "completed"
    },
    "tags": []
   },
   "source": [
    "<h1 style=\"color: black; padding: 15px; display: table; text-align: center; \n",
    "           box-shadow: 5px 5px 10px rgba(0,0,0,0.3); width: fit-content; margin: auto;\">\n",
    "  <span style=\"background-color: #f5f5f5; padding: 5px; border: 3px solid black; display: inline-block;\">\n",
    "    Simple Linear Regression(Model From Scratch)  \n",
    "  </span>\n",
    "</h1>\n"
   ]
  },
  {
   "cell_type": "code",
   "execution_count": 21,
   "id": "8c95e6b9",
   "metadata": {
    "execution": {
     "iopub.execute_input": "2025-04-09T22:42:46.442728Z",
     "iopub.status.busy": "2025-04-09T22:42:46.442352Z",
     "iopub.status.idle": "2025-04-09T22:42:46.447992Z",
     "shell.execute_reply": "2025-04-09T22:42:46.447138Z"
    },
    "papermill": {
     "duration": 0.019713,
     "end_time": "2025-04-09T22:42:46.449602",
     "exception": false,
     "start_time": "2025-04-09T22:42:46.429889",
     "status": "completed"
    },
    "tags": []
   },
   "outputs": [
    {
     "data": {
      "text/plain": [
       "Index(['YearsExperience', 'Salary'], dtype='object')"
      ]
     },
     "execution_count": 21,
     "metadata": {},
     "output_type": "execute_result"
    }
   ],
   "source": [
    "data.columns"
   ]
  },
  {
   "cell_type": "code",
   "execution_count": 22,
   "id": "275298e2",
   "metadata": {
    "execution": {
     "iopub.execute_input": "2025-04-09T22:42:46.474319Z",
     "iopub.status.busy": "2025-04-09T22:42:46.473921Z",
     "iopub.status.idle": "2025-04-09T22:42:46.478146Z",
     "shell.execute_reply": "2025-04-09T22:42:46.477212Z"
    },
    "papermill": {
     "duration": 0.018615,
     "end_time": "2025-04-09T22:42:46.479987",
     "exception": false,
     "start_time": "2025-04-09T22:42:46.461372",
     "status": "completed"
    },
    "tags": []
   },
   "outputs": [],
   "source": [
    "x=data['YearsExperience']\n",
    "y=data['Salary']"
   ]
  },
  {
   "cell_type": "code",
   "execution_count": 23,
   "id": "915b6e3a",
   "metadata": {
    "execution": {
     "iopub.execute_input": "2025-04-09T22:42:46.506113Z",
     "iopub.status.busy": "2025-04-09T22:42:46.505748Z",
     "iopub.status.idle": "2025-04-09T22:42:46.512540Z",
     "shell.execute_reply": "2025-04-09T22:42:46.511454Z"
    },
    "papermill": {
     "duration": 0.021947,
     "end_time": "2025-04-09T22:42:46.514265",
     "exception": false,
     "start_time": "2025-04-09T22:42:46.492318",
     "status": "completed"
    },
    "tags": []
   },
   "outputs": [],
   "source": [
    "xmean=np.mean(x)\n",
    "ymean=np.mean(y)\n",
    "numerator=0\n",
    "denomerator=0\n",
    "for i in range(len(x)):\n",
    "    numerator+=(x.iloc[i]-xmean)*(y.iloc[i]-ymean)\n",
    "    denomerator+=((x.iloc[i]-xmean)**2)\n",
    "w=numerator / denomerator\n",
    "b=ymean-(w*xmean)  "
   ]
  },
  {
   "cell_type": "code",
   "execution_count": 24,
   "id": "26be824f",
   "metadata": {
    "execution": {
     "iopub.execute_input": "2025-04-09T22:42:46.538961Z",
     "iopub.status.busy": "2025-04-09T22:42:46.538618Z",
     "iopub.status.idle": "2025-04-09T22:42:46.550929Z",
     "shell.execute_reply": "2025-04-09T22:42:46.549884Z"
    },
    "papermill": {
     "duration": 0.026777,
     "end_time": "2025-04-09T22:42:46.552837",
     "exception": false,
     "start_time": "2025-04-09T22:42:46.526060",
     "status": "completed"
    },
    "tags": []
   },
   "outputs": [],
   "source": [
    "y_predict_train=[]\n",
    "for i in range(len(X_train)):\n",
    "    y=w*X_train.iloc[i]+b\n",
    "    y_predict_train.append(y)"
   ]
  },
  {
   "cell_type": "code",
   "execution_count": 25,
   "id": "04af9ccd",
   "metadata": {
    "execution": {
     "iopub.execute_input": "2025-04-09T22:42:46.578387Z",
     "iopub.status.busy": "2025-04-09T22:42:46.577990Z",
     "iopub.status.idle": "2025-04-09T22:42:46.584312Z",
     "shell.execute_reply": "2025-04-09T22:42:46.583390Z"
    },
    "papermill": {
     "duration": 0.020951,
     "end_time": "2025-04-09T22:42:46.585853",
     "exception": false,
     "start_time": "2025-04-09T22:42:46.564902",
     "status": "completed"
    },
    "tags": []
   },
   "outputs": [],
   "source": [
    "y_predict_test=[]\n",
    "for i in range(len(X_test)):\n",
    "    y=w*(X_test.iloc[i])+b\n",
    "    y_predict_test.append(y)"
   ]
  },
  {
   "cell_type": "code",
   "execution_count": 26,
   "id": "69d3081e",
   "metadata": {
    "execution": {
     "iopub.execute_input": "2025-04-09T22:42:46.610175Z",
     "iopub.status.busy": "2025-04-09T22:42:46.609800Z",
     "iopub.status.idle": "2025-04-09T22:42:46.834134Z",
     "shell.execute_reply": "2025-04-09T22:42:46.832990Z"
    },
    "papermill": {
     "duration": 0.238225,
     "end_time": "2025-04-09T22:42:46.835676",
     "exception": false,
     "start_time": "2025-04-09T22:42:46.597451",
     "status": "completed"
    },
    "tags": []
   },
   "outputs": [
    {
     "data": {
      "text/plain": [
       "Text(0, 0.5, 'Salary')"
      ]
     },
     "execution_count": 26,
     "metadata": {},
     "output_type": "execute_result"
    },
    {
     "data": {
      "image/png": "[encoded data removed]",
      "text/plain": [
       "<Figure size 640x480 with 1 Axes>"
      ]
     },
     "metadata": {},
     "output_type": "display_data"
    }
   ],
   "source": [
    "plt.scatter(X_train,Y_train,color='purple')\n",
    "plt.plot(X_train,y_predict_train,color='red')\n",
    "plt.title('Visualize simple Linear Regreission For Train Data')\n",
    "plt.xlabel('Experience Years')\n",
    "plt.ylabel('Salary')\n"
   ]
  },
  {
   "cell_type": "code",
   "execution_count": 27,
   "id": "f9a8aecc",
   "metadata": {
    "execution": {
     "iopub.execute_input": "2025-04-09T22:42:46.861718Z",
     "iopub.status.busy": "2025-04-09T22:42:46.861323Z",
     "iopub.status.idle": "2025-04-09T22:42:47.088507Z",
     "shell.execute_reply": "2025-04-09T22:42:47.087389Z"
    },
    "papermill": {
     "duration": 0.241953,
     "end_time": "2025-04-09T22:42:47.090068",
     "exception": false,
     "start_time": "2025-04-09T22:42:46.848115",
     "status": "completed"
    },
    "tags": []
   },
   "outputs": [
    {
     "data": {
      "text/plain": [
       "Text(0, 0.5, 'Salary')"
      ]
     },
     "execution_count": 27,
     "metadata": {},
     "output_type": "execute_result"
    },
    {
     "data": {
      "image/png": "[encoded data removed]",
      "text/plain": [
       "<Figure size 640x480 with 1 Axes>"
      ]
     },
     "metadata": {},
     "output_type": "display_data"
    }
   ],
   "source": [
    "plt.scatter(X_test,Y_test,color='purple')\n",
    "plt.plot(X_test,y_predict_test,color='red')\n",
    "plt.title('Visualize simple Linear Regreission For Train Data')\n",
    "plt.xlabel('Experience Years')\n",
    "plt.ylabel('Salary')\n"
   ]
  },
  {
   "cell_type": "code",
   "execution_count": 28,
   "id": "0d5cf362",
   "metadata": {
    "execution": {
     "iopub.execute_input": "2025-04-09T22:42:47.118026Z",
     "iopub.status.busy": "2025-04-09T22:42:47.117689Z",
     "iopub.status.idle": "2025-04-09T22:42:47.124179Z",
     "shell.execute_reply": "2025-04-09T22:42:47.123021Z"
    },
    "papermill": {
     "duration": 0.022032,
     "end_time": "2025-04-09T22:42:47.125762",
     "exception": false,
     "start_time": "2025-04-09T22:42:47.103730",
     "status": "completed"
    },
    "tags": []
   },
   "outputs": [
    {
     "name": "stdout",
     "output_type": "stream",
     "text": [
      "[10909090.28710283]\n"
     ]
    }
   ],
   "source": [
    "def MSE(Y_test,y_predict_test):\n",
    "    n=len(Y_test)\n",
    "    summation=0\n",
    "    for i in range(n):\n",
    "        summation+=((Y_test[i]-y_predict_test[i])**2)\n",
    "    return summation/n\n",
    "Y_test=np.array(Y_test)\n",
    "y_predict_test=np.array(y_predict_test)\n",
    "print(MSE(Y_test,y_predict_test))\n",
    "        "
   ]
  },
  {
   "cell_type": "code",
   "execution_count": 29,
   "id": "841446ae",
   "metadata": {
    "execution": {
     "iopub.execute_input": "2025-04-09T22:42:47.153293Z",
     "iopub.status.busy": "2025-04-09T22:42:47.152854Z",
     "iopub.status.idle": "2025-04-09T22:42:47.158608Z",
     "shell.execute_reply": "2025-04-09T22:42:47.157226Z"
    },
    "papermill": {
     "duration": 0.021484,
     "end_time": "2025-04-09T22:42:47.160362",
     "exception": false,
     "start_time": "2025-04-09T22:42:47.138878",
     "status": "completed"
    },
    "tags": []
   },
   "outputs": [
    {
     "name": "stdout",
     "output_type": "stream",
     "text": [
      "[3302.89120122]\n"
     ]
    }
   ],
   "source": [
    "print(np.sqrt(MSE(Y_test,y_predict_test)))"
   ]
  },
  {
   "cell_type": "code",
   "execution_count": 30,
   "id": "021bfc9b",
   "metadata": {
    "execution": {
     "iopub.execute_input": "2025-04-09T22:42:47.189411Z",
     "iopub.status.busy": "2025-04-09T22:42:47.188991Z",
     "iopub.status.idle": "2025-04-09T22:42:47.195788Z",
     "shell.execute_reply": "2025-04-09T22:42:47.194760Z"
    },
    "papermill": {
     "duration": 0.023132,
     "end_time": "2025-04-09T22:42:47.197372",
     "exception": false,
     "start_time": "2025-04-09T22:42:47.174240",
     "status": "completed"
    },
    "tags": []
   },
   "outputs": [
    {
     "name": "stdout",
     "output_type": "stream",
     "text": [
      "[0.99055999]\n"
     ]
    }
   ],
   "source": [
    "def R2_Score(Y_test,y_predict_test):\n",
    "    numerator=0\n",
    "    denomerator=0\n",
    "    for i in range(len(Y_test)):\n",
    "        numerator+=((Y_test[i]-y_predict_test[i])**2)\n",
    "        denomerator+=((Y_test[i]-ymean)**2)\n",
    "    return (1-(numerator/denomerator))\n",
    "print(R2_Score(Y_test,y_predict_test))"
   ]
  },
  {
   "cell_type": "markdown",
   "id": "2bc0d5f0",
   "metadata": {
    "papermill": {
     "duration": 0.012889,
     "end_time": "2025-04-09T22:42:47.223720",
     "exception": false,
     "start_time": "2025-04-09T22:42:47.210831",
     "status": "completed"
    },
    "tags": []
   },
   "source": [
    "<h1 style=\"color: black; padding: 15px; display: table; text-align: center; \n",
    "           box-shadow: 5px 5px 10px rgba(0,0,0,0.3); width: fit-content; margin: auto;\">\n",
    "  <span style=\"background-color: #f5f5f5; padding: 5px; border: 3px solid black; display: inline-block;\">\n",
    "    Simple Linear Regression(Model From Scratch with Gradient Descent )  \n",
    "  </span>\n",
    "</h1>\n"
   ]
  },
  {
   "cell_type": "code",
   "execution_count": 31,
   "id": "9181cfd4",
   "metadata": {
    "execution": {
     "iopub.execute_input": "2025-04-09T22:42:47.251153Z",
     "iopub.status.busy": "2025-04-09T22:42:47.250769Z",
     "iopub.status.idle": "2025-04-09T22:42:47.256979Z",
     "shell.execute_reply": "2025-04-09T22:42:47.255991Z"
    },
    "papermill": {
     "duration": 0.02188,
     "end_time": "2025-04-09T22:42:47.258663",
     "exception": false,
     "start_time": "2025-04-09T22:42:47.236783",
     "status": "completed"
    },
    "tags": []
   },
   "outputs": [],
   "source": [
    "def Gradient_Descent(X_train,Y_train,learning_rate=.01,iteration=1000):\n",
    "    X_train=np.array(X_train)\n",
    "    Y_train=np.array(Y_train)\n",
    "    w_new=0\n",
    "    b_new=0\n",
    "    n=len(X_train)\n",
    "    for j in range(iteration):\n",
    "        w_dervi=0\n",
    "        b_dervi=0\n",
    "        for i in range(len(X_train)):\n",
    "            w_dervi+=(-2*(X_train[i]*(Y_train[i]-w_new*X_train[i]-b_new)))/n\n",
    "            b_dervi+=(-2*(Y_train[i]-w_new*X_train[i]-b_new))/n\n",
    "        w_new-=learning_rate*w_dervi\n",
    "        b_new-=learning_rate*b_dervi\n",
    "    return w_new,b_new"
   ]
  },
  {
   "cell_type": "code",
   "execution_count": 32,
   "id": "43997a0b",
   "metadata": {
    "execution": {
     "iopub.execute_input": "2025-04-09T22:42:47.286871Z",
     "iopub.status.busy": "2025-04-09T22:42:47.286532Z",
     "iopub.status.idle": "2025-04-09T22:42:47.672686Z",
     "shell.execute_reply": "2025-04-09T22:42:47.671485Z"
    },
    "papermill": {
     "duration": 0.402451,
     "end_time": "2025-04-09T22:42:47.674741",
     "exception": false,
     "start_time": "2025-04-09T22:42:47.272290",
     "status": "completed"
    },
    "tags": []
   },
   "outputs": [],
   "source": [
    "w,b=Gradient_Descent(X_train,Y_train,learning_rate=.01,iteration=1000)"
   ]
  },
  {
   "cell_type": "code",
   "execution_count": 33,
   "id": "1ee7c710",
   "metadata": {
    "execution": {
     "iopub.execute_input": "2025-04-09T22:42:47.702594Z",
     "iopub.status.busy": "2025-04-09T22:42:47.702199Z",
     "iopub.status.idle": "2025-04-09T22:42:47.711880Z",
     "shell.execute_reply": "2025-04-09T22:42:47.710900Z"
    },
    "papermill": {
     "duration": 0.025483,
     "end_time": "2025-04-09T22:42:47.713553",
     "exception": false,
     "start_time": "2025-04-09T22:42:47.688070",
     "status": "completed"
    },
    "tags": []
   },
   "outputs": [],
   "source": [
    "y_predict_train=[]\n",
    "for i in range(len(X_train)):\n",
    "    y=w*X_train.iloc[i]+b\n",
    "    y_predict_train.append(y)"
   ]
  },
  {
   "cell_type": "code",
   "execution_count": 34,
   "id": "ecacaa1e",
   "metadata": {
    "execution": {
     "iopub.execute_input": "2025-04-09T22:42:47.741897Z",
     "iopub.status.busy": "2025-04-09T22:42:47.741559Z",
     "iopub.status.idle": "2025-04-09T22:42:47.747665Z",
     "shell.execute_reply": "2025-04-09T22:42:47.746652Z"
    },
    "papermill": {
     "duration": 0.021909,
     "end_time": "2025-04-09T22:42:47.749186",
     "exception": false,
     "start_time": "2025-04-09T22:42:47.727277",
     "status": "completed"
    },
    "tags": []
   },
   "outputs": [],
   "source": [
    "y_predict_test=[]\n",
    "for i in range(len(X_test)):\n",
    "    y=w*(X_test.iloc[i])+b\n",
    "    y_predict_test.append(y)"
   ]
  },
  {
   "cell_type": "code",
   "execution_count": 35,
   "id": "8a66d57f",
   "metadata": {
    "execution": {
     "iopub.execute_input": "2025-04-09T22:42:47.777871Z",
     "iopub.status.busy": "2025-04-09T22:42:47.777490Z",
     "iopub.status.idle": "2025-04-09T22:42:48.001375Z",
     "shell.execute_reply": "2025-04-09T22:42:48.000363Z"
    },
    "papermill": {
     "duration": 0.239833,
     "end_time": "2025-04-09T22:42:48.002958",
     "exception": false,
     "start_time": "2025-04-09T22:42:47.763125",
     "status": "completed"
    },
    "tags": []
   },
   "outputs": [
    {
     "data": {
      "text/plain": [
       "Text(0, 0.5, 'Salary')"
      ]
     },
     "execution_count": 35,
     "metadata": {},
     "output_type": "execute_result"
    },
    {
     "data": {
      "image/png": "[encoded data removed]",
      "text/plain": [
       "<Figure size 640x480 with 1 Axes>"
      ]
     },
     "metadata": {},
     "output_type": "display_data"
    }
   ],
   "source": [
    "plt.scatter(X_train,Y_train,color='purple')\n",
    "plt.plot(X_train,y_predict_train,color='red')\n",
    "plt.title('Visualize simple Linear Regreission For Train Data')\n",
    "plt.xlabel('Experience Years')\n",
    "plt.ylabel('Salary')\n"
   ]
  },
  {
   "cell_type": "code",
   "execution_count": 36,
   "id": "60cad05c",
   "metadata": {
    "execution": {
     "iopub.execute_input": "2025-04-09T22:42:48.033787Z",
     "iopub.status.busy": "2025-04-09T22:42:48.033417Z",
     "iopub.status.idle": "2025-04-09T22:42:48.255598Z",
     "shell.execute_reply": "2025-04-09T22:42:48.254384Z"
    },
    "papermill": {
     "duration": 0.239588,
     "end_time": "2025-04-09T22:42:48.257385",
     "exception": false,
     "start_time": "2025-04-09T22:42:48.017797",
     "status": "completed"
    },
    "tags": []
   },
   "outputs": [
    {
     "data": {
      "text/plain": [
       "Text(0, 0.5, 'Salary')"
      ]
     },
     "execution_count": 36,
     "metadata": {},
     "output_type": "execute_result"
    },
    {
     "data": {
      "image/png": "[encoded data removed]",
      "text/plain": [
       "<Figure size 640x480 with 1 Axes>"
      ]
     },
     "metadata": {},
     "output_type": "display_data"
    }
   ],
   "source": [
    "plt.scatter(X_test,Y_test,color='purple')\n",
    "plt.plot(X_test,y_predict_test,color='red')\n",
    "plt.title('Visualize simple Linear Regreission For Train Data')\n",
    "plt.xlabel('Experience Years')\n",
    "plt.ylabel('Salary')\n"
   ]
  },
  {
   "cell_type": "code",
   "execution_count": 37,
   "id": "2ff04195",
   "metadata": {
    "execution": {
     "iopub.execute_input": "2025-04-09T22:42:48.289014Z",
     "iopub.status.busy": "2025-04-09T22:42:48.288629Z",
     "iopub.status.idle": "2025-04-09T22:42:48.295691Z",
     "shell.execute_reply": "2025-04-09T22:42:48.294512Z"
    },
    "papermill": {
     "duration": 0.024819,
     "end_time": "2025-04-09T22:42:48.297588",
     "exception": false,
     "start_time": "2025-04-09T22:42:48.272769",
     "status": "completed"
    },
    "tags": []
   },
   "outputs": [
    {
     "name": "stdout",
     "output_type": "stream",
     "text": [
      "[11964042.47204333]\n"
     ]
    }
   ],
   "source": [
    "def MSE(Y_test,y_predict_test):\n",
    "    n=len(Y_test)\n",
    "    summation=0\n",
    "    for i in range(n):\n",
    "        summation+=((Y_test[i]-y_predict_test[i])**2)\n",
    "    return summation/n\n",
    "Y_test=np.array(Y_test)\n",
    "y_predict_test=np.array(y_predict_test)\n",
    "print(MSE(Y_test,y_predict_test))\n",
    "        "
   ]
  },
  {
   "cell_type": "code",
   "execution_count": 38,
   "id": "225124e4",
   "metadata": {
    "execution": {
     "iopub.execute_input": "2025-04-09T22:42:48.328663Z",
     "iopub.status.busy": "2025-04-09T22:42:48.328307Z",
     "iopub.status.idle": "2025-04-09T22:42:48.334015Z",
     "shell.execute_reply": "2025-04-09T22:42:48.332876Z"
    },
    "papermill": {
     "duration": 0.023236,
     "end_time": "2025-04-09T22:42:48.335759",
     "exception": false,
     "start_time": "2025-04-09T22:42:48.312523",
     "status": "completed"
    },
    "tags": []
   },
   "outputs": [
    {
     "name": "stdout",
     "output_type": "stream",
     "text": [
      "[3458.90769927]\n"
     ]
    }
   ],
   "source": [
    "print(np.sqrt(MSE(Y_test,y_predict_test)))"
   ]
  },
  {
   "cell_type": "code",
   "execution_count": 39,
   "id": "52477c49",
   "metadata": {
    "execution": {
     "iopub.execute_input": "2025-04-09T22:42:48.366739Z",
     "iopub.status.busy": "2025-04-09T22:42:48.366369Z",
     "iopub.status.idle": "2025-04-09T22:42:48.372946Z",
     "shell.execute_reply": "2025-04-09T22:42:48.371981Z"
    },
    "papermill": {
     "duration": 0.024233,
     "end_time": "2025-04-09T22:42:48.374878",
     "exception": false,
     "start_time": "2025-04-09T22:42:48.350645",
     "status": "completed"
    },
    "tags": []
   },
   "outputs": [
    {
     "name": "stdout",
     "output_type": "stream",
     "text": [
      "[0.9896471]\n"
     ]
    }
   ],
   "source": [
    "def R2_Score(Y_test,y_predict_test):\n",
    "    numerator=0\n",
    "    denomerator=0\n",
    "    for i in range(len(Y_test)):\n",
    "        numerator+=((Y_test[i]-y_predict_test[i])**2)\n",
    "        denomerator+=((Y_test[i]-ymean)**2)\n",
    "    return (1-(numerator/denomerator))\n",
    "print(R2_Score(Y_test,y_predict_test))"
   ]
  }
 ],
 "metadata": {
  "kaggle": {
   "accelerator": "none",
   "dataSources": [
    {
     "datasetId": 4229491,
     "sourceId": 7292370,
     "sourceType": "datasetVersion"
    }
   ],
   "dockerImageVersionId": 30918,
   "isGpuEnabled": false,
   "isInternetEnabled": true,
   "language": "python",
   "sourceType": "notebook"
  },
  "kernelspec": {
   "display_name": "Python 3",
   "language": "python",
   "name": "python3"
  },
  "language_info": {
   "codemirror_mode": {
    "name": "ipython",
    "version": 3
   },
   "file_extension": ".py",
   "mimetype": "text/x-python",
   "name": "python",
   "nbconvert_exporter": "python",
   "pygments_lexer": "ipython3",
   "version": "3.10.12"
  },
  "papermill": {
   "default_parameters": {},
   "duration": 12.090109,
   "end_time": "2025-04-09T22:42:49.211905",
   "environment_variables": {},
   "exception": null,
   "input_path": "__notebook__.ipynb",
   "output_path": "__notebook__.ipynb",
   "parameters": {},
   "start_time": "2025-04-09T22:42:37.121796",
   "version": "2.6.0"
  }
 },
 "nbformat": 4,
 "nbformat_minor": 5
}
